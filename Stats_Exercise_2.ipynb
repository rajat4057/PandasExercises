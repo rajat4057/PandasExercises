{
  "nbformat": 4,
  "nbformat_minor": 0,
  "metadata": {
    "anaconda-cloud": {},
    "kernelspec": {
      "display_name": "Python [default]",
      "language": "python",
      "name": "python2"
    },
    "language_info": {
      "codemirror_mode": {
        "name": "ipython",
        "version": 2
      },
      "file_extension": ".py",
      "mimetype": "text/x-python",
      "name": "python",
      "nbconvert_exporter": "python",
      "pygments_lexer": "ipython2",
      "version": "2.7.12"
    },
    "colab": {
      "name": "Copy of Exercises.ipynb",
      "provenance": [],
      "collapsed_sections": [],
      "include_colab_link": true
    }
  },
  "cells": [
    {
      "cell_type": "markdown",
      "metadata": {
        "id": "view-in-github",
        "colab_type": "text"
      },
      "source": [
        "<a href=\"https://colab.research.google.com/github/rajat4057/PandasExercises/blob/master/Stats_Exercise_2.ipynb\" target=\"_parent\"><img src=\"https://colab.research.google.com/assets/colab-badge.svg\" alt=\"Open In Colab\"/></a>"
      ]
    },
    {
      "cell_type": "markdown",
      "metadata": {
        "id": "LSfOc1LvMlDc",
        "colab_type": "text"
      },
      "source": [
        "# Wind Statistics"
      ]
    },
    {
      "cell_type": "markdown",
      "metadata": {
        "id": "OjSl76ZPMlDj",
        "colab_type": "text"
      },
      "source": [
        "### Introduction:\n",
        "\n",
        "The data have been modified to contain some missing values, identified by NaN.  \n",
        "Using pandas should make this exercise\n",
        "easier, in particular for the bonus question.\n",
        "\n",
        "You should be able to perform all of these operations without using\n",
        "a for loop or other looping construct.\n",
        "\n",
        "\n",
        "1. The data in 'wind.data' has the following format:"
      ]
    },
    {
      "cell_type": "code",
      "metadata": {
        "id": "5eEraBOmMlDl",
        "colab_type": "code",
        "outputId": "cd399ed3-21ab-4341-9d66-85194a08564f",
        "colab": {}
      },
      "source": [
        "\"\"\"\n",
        "Yr Mo Dy   RPT   VAL   ROS   KIL   SHA   BIR   DUB   CLA   MUL   CLO   BEL   MAL\n",
        "61  1  1 15.04 14.96 13.17  9.29   NaN  9.87 13.67 10.25 10.83 12.58 18.50 15.04\n",
        "61  1  2 14.71   NaN 10.83  6.50 12.62  7.67 11.50 10.04  9.79  9.67 17.54 13.83\n",
        "61  1  3 18.50 16.88 12.33 10.13 11.17  6.17 11.25   NaN  8.50  7.67 12.75 12.71\n",
        "\"\"\""
      ],
      "execution_count": 0,
      "outputs": [
        {
          "output_type": "execute_result",
          "data": {
            "text/plain": [
              "'\\nYr Mo Dy   RPT   VAL   ROS   KIL   SHA   BIR   DUB   CLA   MUL   CLO   BEL   MAL\\n61  1  1 15.04 14.96 13.17  9.29   NaN  9.87 13.67 10.25 10.83 12.58 18.50 15.04\\n61  1  2 14.71   NaN 10.83  6.50 12.62  7.67 11.50 10.04  9.79  9.67 17.54 13.83\\n61  1  3 18.50 16.88 12.33 10.13 11.17  6.17 11.25   NaN  8.50  7.67 12.75 12.71\\n'"
            ]
          },
          "metadata": {
            "tags": []
          },
          "execution_count": 434
        }
      ]
    },
    {
      "cell_type": "markdown",
      "metadata": {
        "id": "DbURQkvtMlDt",
        "colab_type": "text"
      },
      "source": [
        "   The first three columns are year, month and day.  The\n",
        "   remaining 12 columns are average windspeeds in knots at 12\n",
        "   locations in Ireland on that day.   \n",
        "\n",
        "   More information about the dataset go [here](wind.desc)."
      ]
    },
    {
      "cell_type": "markdown",
      "metadata": {
        "collapsed": false,
        "id": "21HeudE2MlDu",
        "colab_type": "text"
      },
      "source": [
        "### Step 1. Import the necessary libraries"
      ]
    },
    {
      "cell_type": "code",
      "metadata": {
        "id": "a9f72vluMlDw",
        "colab_type": "code",
        "colab": {}
      },
      "source": [
        "import numpy as np\n",
        "import pandas as pd"
      ],
      "execution_count": 0,
      "outputs": []
    },
    {
      "cell_type": "markdown",
      "metadata": {
        "id": "ydtNh03UMlDz",
        "colab_type": "text"
      },
      "source": [
        "### Step 2. Import the dataset from this [address](https://raw.githubusercontent.com/guipsamora/pandas_exercises/master/06_Stats/Wind_Stats/wind.data)"
      ]
    },
    {
      "cell_type": "markdown",
      "metadata": {
        "id": "e_dMzfFeMlD0",
        "colab_type": "text"
      },
      "source": [
        "### Step 3. Assign it to a variable called data and replace the first 3 columns by a proper datetime index."
      ]
    },
    {
      "cell_type": "code",
      "metadata": {
        "id": "Mdmjg5WSMlD2",
        "colab_type": "code",
        "colab": {}
      },
      "source": [
        "data=pd.read_csv('https://raw.githubusercontent.com/guipsamora/pandas_exercises/master/06_Stats/Wind_Stats/wind.data',sep=\"\\s+\",parse_dates=[[0,1,2]])"
      ],
      "execution_count": 0,
      "outputs": []
    },
    {
      "cell_type": "code",
      "metadata": {
        "id": "oK2nAoOxOwiq",
        "colab_type": "code",
        "colab": {
          "base_uri": "https://localhost:8080/",
          "height": 111
        },
        "outputId": "a0813cf1-4298-4913-ac4a-74749c51596a"
      },
      "source": [
        "data.head(2)"
      ],
      "execution_count": 3,
      "outputs": [
        {
          "output_type": "execute_result",
          "data": {
            "text/html": [
              "<div>\n",
              "<style scoped>\n",
              "    .dataframe tbody tr th:only-of-type {\n",
              "        vertical-align: middle;\n",
              "    }\n",
              "\n",
              "    .dataframe tbody tr th {\n",
              "        vertical-align: top;\n",
              "    }\n",
              "\n",
              "    .dataframe thead th {\n",
              "        text-align: right;\n",
              "    }\n",
              "</style>\n",
              "<table border=\"1\" class=\"dataframe\">\n",
              "  <thead>\n",
              "    <tr style=\"text-align: right;\">\n",
              "      <th></th>\n",
              "      <th>Yr_Mo_Dy</th>\n",
              "      <th>RPT</th>\n",
              "      <th>VAL</th>\n",
              "      <th>ROS</th>\n",
              "      <th>KIL</th>\n",
              "      <th>SHA</th>\n",
              "      <th>BIR</th>\n",
              "      <th>DUB</th>\n",
              "      <th>CLA</th>\n",
              "      <th>MUL</th>\n",
              "      <th>CLO</th>\n",
              "      <th>BEL</th>\n",
              "      <th>MAL</th>\n",
              "    </tr>\n",
              "  </thead>\n",
              "  <tbody>\n",
              "    <tr>\n",
              "      <th>0</th>\n",
              "      <td>2061-01-01</td>\n",
              "      <td>15.04</td>\n",
              "      <td>14.96</td>\n",
              "      <td>13.17</td>\n",
              "      <td>9.29</td>\n",
              "      <td>NaN</td>\n",
              "      <td>9.87</td>\n",
              "      <td>13.67</td>\n",
              "      <td>10.25</td>\n",
              "      <td>10.83</td>\n",
              "      <td>12.58</td>\n",
              "      <td>18.50</td>\n",
              "      <td>15.04</td>\n",
              "    </tr>\n",
              "    <tr>\n",
              "      <th>1</th>\n",
              "      <td>2061-01-02</td>\n",
              "      <td>14.71</td>\n",
              "      <td>NaN</td>\n",
              "      <td>10.83</td>\n",
              "      <td>6.50</td>\n",
              "      <td>12.62</td>\n",
              "      <td>7.67</td>\n",
              "      <td>11.50</td>\n",
              "      <td>10.04</td>\n",
              "      <td>9.79</td>\n",
              "      <td>9.67</td>\n",
              "      <td>17.54</td>\n",
              "      <td>13.83</td>\n",
              "    </tr>\n",
              "  </tbody>\n",
              "</table>\n",
              "</div>"
            ],
            "text/plain": [
              "    Yr_Mo_Dy    RPT    VAL    ROS   KIL  ...    CLA    MUL    CLO    BEL    MAL\n",
              "0 2061-01-01  15.04  14.96  13.17  9.29  ...  10.25  10.83  12.58  18.50  15.04\n",
              "1 2061-01-02  14.71    NaN  10.83  6.50  ...  10.04   9.79   9.67  17.54  13.83\n",
              "\n",
              "[2 rows x 13 columns]"
            ]
          },
          "metadata": {
            "tags": []
          },
          "execution_count": 3
        }
      ]
    },
    {
      "cell_type": "markdown",
      "metadata": {
        "id": "1EpKumVSMlD5",
        "colab_type": "text"
      },
      "source": [
        "### Step 4. Year 2061? Do we really have data from this year? Create a function to fix it and apply it."
      ]
    },
    {
      "cell_type": "code",
      "metadata": {
        "id": "DvyDaBiYSkrx",
        "colab_type": "code",
        "colab": {}
      },
      "source": [
        "import datetime"
      ],
      "execution_count": 0,
      "outputs": []
    },
    {
      "cell_type": "code",
      "metadata": {
        "id": "UvtKOyzOMlD6",
        "colab_type": "code",
        "colab": {}
      },
      "source": [
        "def date_convert(d):\n",
        "  if d.year>1989:\n",
        "    year=d.year-100\n",
        "  else:\n",
        "    year=d.year\n",
        "  return datetime.date(year, d.month, d.day)\n",
        "\n",
        "data['Yr_Mo_Dy']=data['Yr_Mo_Dy'].apply(date_convert)\n",
        "  \n"
      ],
      "execution_count": 0,
      "outputs": []
    },
    {
      "cell_type": "code",
      "metadata": {
        "id": "k0ReP3thS15g",
        "colab_type": "code",
        "colab": {
          "base_uri": "https://localhost:8080/",
          "height": 204
        },
        "outputId": "9b9ba240-1bab-4f31-92ec-3ace1387ce9d"
      },
      "source": [
        "data.head()"
      ],
      "execution_count": 9,
      "outputs": [
        {
          "output_type": "execute_result",
          "data": {
            "text/html": [
              "<div>\n",
              "<style scoped>\n",
              "    .dataframe tbody tr th:only-of-type {\n",
              "        vertical-align: middle;\n",
              "    }\n",
              "\n",
              "    .dataframe tbody tr th {\n",
              "        vertical-align: top;\n",
              "    }\n",
              "\n",
              "    .dataframe thead th {\n",
              "        text-align: right;\n",
              "    }\n",
              "</style>\n",
              "<table border=\"1\" class=\"dataframe\">\n",
              "  <thead>\n",
              "    <tr style=\"text-align: right;\">\n",
              "      <th></th>\n",
              "      <th>Yr_Mo_Dy</th>\n",
              "      <th>RPT</th>\n",
              "      <th>VAL</th>\n",
              "      <th>ROS</th>\n",
              "      <th>KIL</th>\n",
              "      <th>SHA</th>\n",
              "      <th>BIR</th>\n",
              "      <th>DUB</th>\n",
              "      <th>CLA</th>\n",
              "      <th>MUL</th>\n",
              "      <th>CLO</th>\n",
              "      <th>BEL</th>\n",
              "      <th>MAL</th>\n",
              "    </tr>\n",
              "  </thead>\n",
              "  <tbody>\n",
              "    <tr>\n",
              "      <th>0</th>\n",
              "      <td>1961-01-01</td>\n",
              "      <td>15.04</td>\n",
              "      <td>14.96</td>\n",
              "      <td>13.17</td>\n",
              "      <td>9.29</td>\n",
              "      <td>NaN</td>\n",
              "      <td>9.87</td>\n",
              "      <td>13.67</td>\n",
              "      <td>10.25</td>\n",
              "      <td>10.83</td>\n",
              "      <td>12.58</td>\n",
              "      <td>18.50</td>\n",
              "      <td>15.04</td>\n",
              "    </tr>\n",
              "    <tr>\n",
              "      <th>1</th>\n",
              "      <td>1961-01-02</td>\n",
              "      <td>14.71</td>\n",
              "      <td>NaN</td>\n",
              "      <td>10.83</td>\n",
              "      <td>6.50</td>\n",
              "      <td>12.62</td>\n",
              "      <td>7.67</td>\n",
              "      <td>11.50</td>\n",
              "      <td>10.04</td>\n",
              "      <td>9.79</td>\n",
              "      <td>9.67</td>\n",
              "      <td>17.54</td>\n",
              "      <td>13.83</td>\n",
              "    </tr>\n",
              "    <tr>\n",
              "      <th>2</th>\n",
              "      <td>1961-01-03</td>\n",
              "      <td>18.50</td>\n",
              "      <td>16.88</td>\n",
              "      <td>12.33</td>\n",
              "      <td>10.13</td>\n",
              "      <td>11.17</td>\n",
              "      <td>6.17</td>\n",
              "      <td>11.25</td>\n",
              "      <td>NaN</td>\n",
              "      <td>8.50</td>\n",
              "      <td>7.67</td>\n",
              "      <td>12.75</td>\n",
              "      <td>12.71</td>\n",
              "    </tr>\n",
              "    <tr>\n",
              "      <th>3</th>\n",
              "      <td>1961-01-04</td>\n",
              "      <td>10.58</td>\n",
              "      <td>6.63</td>\n",
              "      <td>11.75</td>\n",
              "      <td>4.58</td>\n",
              "      <td>4.54</td>\n",
              "      <td>2.88</td>\n",
              "      <td>8.63</td>\n",
              "      <td>1.79</td>\n",
              "      <td>5.83</td>\n",
              "      <td>5.88</td>\n",
              "      <td>5.46</td>\n",
              "      <td>10.88</td>\n",
              "    </tr>\n",
              "    <tr>\n",
              "      <th>4</th>\n",
              "      <td>1961-01-05</td>\n",
              "      <td>13.33</td>\n",
              "      <td>13.25</td>\n",
              "      <td>11.42</td>\n",
              "      <td>6.17</td>\n",
              "      <td>10.71</td>\n",
              "      <td>8.21</td>\n",
              "      <td>11.92</td>\n",
              "      <td>6.54</td>\n",
              "      <td>10.92</td>\n",
              "      <td>10.34</td>\n",
              "      <td>12.92</td>\n",
              "      <td>11.83</td>\n",
              "    </tr>\n",
              "  </tbody>\n",
              "</table>\n",
              "</div>"
            ],
            "text/plain": [
              "     Yr_Mo_Dy    RPT    VAL    ROS    KIL  ...    CLA    MUL    CLO    BEL    MAL\n",
              "0  1961-01-01  15.04  14.96  13.17   9.29  ...  10.25  10.83  12.58  18.50  15.04\n",
              "1  1961-01-02  14.71    NaN  10.83   6.50  ...  10.04   9.79   9.67  17.54  13.83\n",
              "2  1961-01-03  18.50  16.88  12.33  10.13  ...    NaN   8.50   7.67  12.75  12.71\n",
              "3  1961-01-04  10.58   6.63  11.75   4.58  ...   1.79   5.83   5.88   5.46  10.88\n",
              "4  1961-01-05  13.33  13.25  11.42   6.17  ...   6.54  10.92  10.34  12.92  11.83\n",
              "\n",
              "[5 rows x 13 columns]"
            ]
          },
          "metadata": {
            "tags": []
          },
          "execution_count": 9
        }
      ]
    },
    {
      "cell_type": "markdown",
      "metadata": {
        "id": "hEjgMfcaMlD_",
        "colab_type": "text"
      },
      "source": [
        "### Step 5. Set the right dates as the index. Pay attention at the data type, it should be datetime64[ns]."
      ]
    },
    {
      "cell_type": "code",
      "metadata": {
        "id": "Mg5N3Ay0MlEB",
        "colab_type": "code",
        "colab": {}
      },
      "source": [
        "data['Yr_Mo_Dy']=pd.to_datetime(data['Yr_Mo_Dy'])"
      ],
      "execution_count": 0,
      "outputs": []
    },
    {
      "cell_type": "code",
      "metadata": {
        "id": "bE0AGpi_T8_I",
        "colab_type": "code",
        "colab": {}
      },
      "source": [
        "data.set_index('Yr_Mo_Dy',inplace=True)"
      ],
      "execution_count": 0,
      "outputs": []
    },
    {
      "cell_type": "code",
      "metadata": {
        "id": "tb6f4g65UzTM",
        "colab_type": "code",
        "colab": {
          "base_uri": "https://localhost:8080/",
          "height": 235
        },
        "outputId": "3663a0f8-2c09-4550-dd88-6232928ea1e2"
      },
      "source": [
        "data.head()"
      ],
      "execution_count": 18,
      "outputs": [
        {
          "output_type": "execute_result",
          "data": {
            "text/html": [
              "<div>\n",
              "<style scoped>\n",
              "    .dataframe tbody tr th:only-of-type {\n",
              "        vertical-align: middle;\n",
              "    }\n",
              "\n",
              "    .dataframe tbody tr th {\n",
              "        vertical-align: top;\n",
              "    }\n",
              "\n",
              "    .dataframe thead th {\n",
              "        text-align: right;\n",
              "    }\n",
              "</style>\n",
              "<table border=\"1\" class=\"dataframe\">\n",
              "  <thead>\n",
              "    <tr style=\"text-align: right;\">\n",
              "      <th></th>\n",
              "      <th>RPT</th>\n",
              "      <th>VAL</th>\n",
              "      <th>ROS</th>\n",
              "      <th>KIL</th>\n",
              "      <th>SHA</th>\n",
              "      <th>BIR</th>\n",
              "      <th>DUB</th>\n",
              "      <th>CLA</th>\n",
              "      <th>MUL</th>\n",
              "      <th>CLO</th>\n",
              "      <th>BEL</th>\n",
              "      <th>MAL</th>\n",
              "    </tr>\n",
              "    <tr>\n",
              "      <th>Yr_Mo_Dy</th>\n",
              "      <th></th>\n",
              "      <th></th>\n",
              "      <th></th>\n",
              "      <th></th>\n",
              "      <th></th>\n",
              "      <th></th>\n",
              "      <th></th>\n",
              "      <th></th>\n",
              "      <th></th>\n",
              "      <th></th>\n",
              "      <th></th>\n",
              "      <th></th>\n",
              "    </tr>\n",
              "  </thead>\n",
              "  <tbody>\n",
              "    <tr>\n",
              "      <th>1961-01-01</th>\n",
              "      <td>15.04</td>\n",
              "      <td>14.96</td>\n",
              "      <td>13.17</td>\n",
              "      <td>9.29</td>\n",
              "      <td>NaN</td>\n",
              "      <td>9.87</td>\n",
              "      <td>13.67</td>\n",
              "      <td>10.25</td>\n",
              "      <td>10.83</td>\n",
              "      <td>12.58</td>\n",
              "      <td>18.50</td>\n",
              "      <td>15.04</td>\n",
              "    </tr>\n",
              "    <tr>\n",
              "      <th>1961-01-02</th>\n",
              "      <td>14.71</td>\n",
              "      <td>NaN</td>\n",
              "      <td>10.83</td>\n",
              "      <td>6.50</td>\n",
              "      <td>12.62</td>\n",
              "      <td>7.67</td>\n",
              "      <td>11.50</td>\n",
              "      <td>10.04</td>\n",
              "      <td>9.79</td>\n",
              "      <td>9.67</td>\n",
              "      <td>17.54</td>\n",
              "      <td>13.83</td>\n",
              "    </tr>\n",
              "    <tr>\n",
              "      <th>1961-01-03</th>\n",
              "      <td>18.50</td>\n",
              "      <td>16.88</td>\n",
              "      <td>12.33</td>\n",
              "      <td>10.13</td>\n",
              "      <td>11.17</td>\n",
              "      <td>6.17</td>\n",
              "      <td>11.25</td>\n",
              "      <td>NaN</td>\n",
              "      <td>8.50</td>\n",
              "      <td>7.67</td>\n",
              "      <td>12.75</td>\n",
              "      <td>12.71</td>\n",
              "    </tr>\n",
              "    <tr>\n",
              "      <th>1961-01-04</th>\n",
              "      <td>10.58</td>\n",
              "      <td>6.63</td>\n",
              "      <td>11.75</td>\n",
              "      <td>4.58</td>\n",
              "      <td>4.54</td>\n",
              "      <td>2.88</td>\n",
              "      <td>8.63</td>\n",
              "      <td>1.79</td>\n",
              "      <td>5.83</td>\n",
              "      <td>5.88</td>\n",
              "      <td>5.46</td>\n",
              "      <td>10.88</td>\n",
              "    </tr>\n",
              "    <tr>\n",
              "      <th>1961-01-05</th>\n",
              "      <td>13.33</td>\n",
              "      <td>13.25</td>\n",
              "      <td>11.42</td>\n",
              "      <td>6.17</td>\n",
              "      <td>10.71</td>\n",
              "      <td>8.21</td>\n",
              "      <td>11.92</td>\n",
              "      <td>6.54</td>\n",
              "      <td>10.92</td>\n",
              "      <td>10.34</td>\n",
              "      <td>12.92</td>\n",
              "      <td>11.83</td>\n",
              "    </tr>\n",
              "  </tbody>\n",
              "</table>\n",
              "</div>"
            ],
            "text/plain": [
              "              RPT    VAL    ROS    KIL  ...    MUL    CLO    BEL    MAL\n",
              "Yr_Mo_Dy                                ...                            \n",
              "1961-01-01  15.04  14.96  13.17   9.29  ...  10.83  12.58  18.50  15.04\n",
              "1961-01-02  14.71    NaN  10.83   6.50  ...   9.79   9.67  17.54  13.83\n",
              "1961-01-03  18.50  16.88  12.33  10.13  ...   8.50   7.67  12.75  12.71\n",
              "1961-01-04  10.58   6.63  11.75   4.58  ...   5.83   5.88   5.46  10.88\n",
              "1961-01-05  13.33  13.25  11.42   6.17  ...  10.92  10.34  12.92  11.83\n",
              "\n",
              "[5 rows x 12 columns]"
            ]
          },
          "metadata": {
            "tags": []
          },
          "execution_count": 18
        }
      ]
    },
    {
      "cell_type": "markdown",
      "metadata": {
        "id": "Keg27xvRMlEG",
        "colab_type": "text"
      },
      "source": [
        "### Step 6. Compute how many values are missing for each location over the entire record.  \n",
        "#### They should be ignored in all calculations below. "
      ]
    },
    {
      "cell_type": "code",
      "metadata": {
        "id": "7bFkDA_8MlEI",
        "colab_type": "code",
        "colab": {
          "base_uri": "https://localhost:8080/",
          "height": 238
        },
        "outputId": "198f80d1-0574-437a-fcf6-052e67710ecd"
      },
      "source": [
        "data.isnull().sum()"
      ],
      "execution_count": 33,
      "outputs": [
        {
          "output_type": "execute_result",
          "data": {
            "text/plain": [
              "RPT    6\n",
              "VAL    3\n",
              "ROS    2\n",
              "KIL    5\n",
              "SHA    2\n",
              "BIR    0\n",
              "DUB    3\n",
              "CLA    2\n",
              "MUL    3\n",
              "CLO    1\n",
              "BEL    0\n",
              "MAL    4\n",
              "dtype: int64"
            ]
          },
          "metadata": {
            "tags": []
          },
          "execution_count": 33
        }
      ]
    },
    {
      "cell_type": "markdown",
      "metadata": {
        "id": "DSnP2WOoMlEN",
        "colab_type": "text"
      },
      "source": [
        "### Step 7. Compute how many non-missing values there are in total."
      ]
    },
    {
      "cell_type": "code",
      "metadata": {
        "scrolled": true,
        "id": "pxeTYzTzMlEQ",
        "colab_type": "code",
        "colab": {
          "base_uri": "https://localhost:8080/",
          "height": 238
        },
        "outputId": "1c084d05-632f-46f4-eca3-bada4078280f"
      },
      "source": [
        "data.notnull().sum()"
      ],
      "execution_count": 34,
      "outputs": [
        {
          "output_type": "execute_result",
          "data": {
            "text/plain": [
              "RPT    6568\n",
              "VAL    6571\n",
              "ROS    6572\n",
              "KIL    6569\n",
              "SHA    6572\n",
              "BIR    6574\n",
              "DUB    6571\n",
              "CLA    6572\n",
              "MUL    6571\n",
              "CLO    6573\n",
              "BEL    6574\n",
              "MAL    6570\n",
              "dtype: int64"
            ]
          },
          "metadata": {
            "tags": []
          },
          "execution_count": 34
        }
      ]
    },
    {
      "cell_type": "markdown",
      "metadata": {
        "id": "BMTIbixQMlEV",
        "colab_type": "text"
      },
      "source": [
        "### Step 8. Calculate the mean windspeeds of the windspeeds over all the locations and all the times.\n",
        "#### A single number for the entire dataset."
      ]
    },
    {
      "cell_type": "code",
      "metadata": {
        "id": "WSnfU321MlEX",
        "colab_type": "code",
        "colab": {
          "base_uri": "https://localhost:8080/",
          "height": 34
        },
        "outputId": "0fa35ef8-b4e0-4dac-8cde-e64a8aeba6f7"
      },
      "source": [
        "data.fillna(0).values.flatten().mean()"
      ],
      "execution_count": 37,
      "outputs": [
        {
          "output_type": "execute_result",
          "data": {
            "text/plain": [
              "10.223864592840483"
            ]
          },
          "metadata": {
            "tags": []
          },
          "execution_count": 37
        }
      ]
    },
    {
      "cell_type": "markdown",
      "metadata": {
        "id": "7EzdL9p9MlEd",
        "colab_type": "text"
      },
      "source": [
        "### Step 9. Create a DataFrame called loc_stats and calculate the min, max and mean windspeeds and standard deviations of the windspeeds at each location over all the days \n",
        "\n",
        "#### A different set of numbers for each location."
      ]
    },
    {
      "cell_type": "code",
      "metadata": {
        "id": "BI36CTB-MlEe",
        "colab_type": "code",
        "colab": {
          "base_uri": "https://localhost:8080/",
          "height": 235
        },
        "outputId": "b7d7e1ca-9d2e-4862-db7d-c0d2b994d394"
      },
      "source": [
        "data.describe(percentiles=[])"
      ],
      "execution_count": 39,
      "outputs": [
        {
          "output_type": "execute_result",
          "data": {
            "text/html": [
              "<div>\n",
              "<style scoped>\n",
              "    .dataframe tbody tr th:only-of-type {\n",
              "        vertical-align: middle;\n",
              "    }\n",
              "\n",
              "    .dataframe tbody tr th {\n",
              "        vertical-align: top;\n",
              "    }\n",
              "\n",
              "    .dataframe thead th {\n",
              "        text-align: right;\n",
              "    }\n",
              "</style>\n",
              "<table border=\"1\" class=\"dataframe\">\n",
              "  <thead>\n",
              "    <tr style=\"text-align: right;\">\n",
              "      <th></th>\n",
              "      <th>RPT</th>\n",
              "      <th>VAL</th>\n",
              "      <th>ROS</th>\n",
              "      <th>KIL</th>\n",
              "      <th>SHA</th>\n",
              "      <th>BIR</th>\n",
              "      <th>DUB</th>\n",
              "      <th>CLA</th>\n",
              "      <th>MUL</th>\n",
              "      <th>CLO</th>\n",
              "      <th>BEL</th>\n",
              "      <th>MAL</th>\n",
              "    </tr>\n",
              "  </thead>\n",
              "  <tbody>\n",
              "    <tr>\n",
              "      <th>count</th>\n",
              "      <td>6568.000000</td>\n",
              "      <td>6571.000000</td>\n",
              "      <td>6572.000000</td>\n",
              "      <td>6569.000000</td>\n",
              "      <td>6572.000000</td>\n",
              "      <td>6574.000000</td>\n",
              "      <td>6571.000000</td>\n",
              "      <td>6572.000000</td>\n",
              "      <td>6571.000000</td>\n",
              "      <td>6573.000000</td>\n",
              "      <td>6574.000000</td>\n",
              "      <td>6570.000000</td>\n",
              "    </tr>\n",
              "    <tr>\n",
              "      <th>mean</th>\n",
              "      <td>12.362987</td>\n",
              "      <td>10.644314</td>\n",
              "      <td>11.660526</td>\n",
              "      <td>6.306468</td>\n",
              "      <td>10.455834</td>\n",
              "      <td>7.092254</td>\n",
              "      <td>9.797343</td>\n",
              "      <td>8.495053</td>\n",
              "      <td>8.493590</td>\n",
              "      <td>8.707332</td>\n",
              "      <td>13.121007</td>\n",
              "      <td>15.599079</td>\n",
              "    </tr>\n",
              "    <tr>\n",
              "      <th>std</th>\n",
              "      <td>5.618413</td>\n",
              "      <td>5.267356</td>\n",
              "      <td>5.008450</td>\n",
              "      <td>3.605811</td>\n",
              "      <td>4.936125</td>\n",
              "      <td>3.968683</td>\n",
              "      <td>4.977555</td>\n",
              "      <td>4.499449</td>\n",
              "      <td>4.166872</td>\n",
              "      <td>4.503954</td>\n",
              "      <td>5.835037</td>\n",
              "      <td>6.699794</td>\n",
              "    </tr>\n",
              "    <tr>\n",
              "      <th>min</th>\n",
              "      <td>0.670000</td>\n",
              "      <td>0.210000</td>\n",
              "      <td>1.500000</td>\n",
              "      <td>0.000000</td>\n",
              "      <td>0.130000</td>\n",
              "      <td>0.000000</td>\n",
              "      <td>0.000000</td>\n",
              "      <td>0.000000</td>\n",
              "      <td>0.000000</td>\n",
              "      <td>0.040000</td>\n",
              "      <td>0.130000</td>\n",
              "      <td>0.670000</td>\n",
              "    </tr>\n",
              "    <tr>\n",
              "      <th>50%</th>\n",
              "      <td>11.710000</td>\n",
              "      <td>10.170000</td>\n",
              "      <td>10.920000</td>\n",
              "      <td>5.750000</td>\n",
              "      <td>9.960000</td>\n",
              "      <td>6.830000</td>\n",
              "      <td>9.210000</td>\n",
              "      <td>8.080000</td>\n",
              "      <td>8.170000</td>\n",
              "      <td>8.290000</td>\n",
              "      <td>12.500000</td>\n",
              "      <td>15.000000</td>\n",
              "    </tr>\n",
              "    <tr>\n",
              "      <th>max</th>\n",
              "      <td>35.800000</td>\n",
              "      <td>33.370000</td>\n",
              "      <td>33.840000</td>\n",
              "      <td>28.460000</td>\n",
              "      <td>37.540000</td>\n",
              "      <td>26.160000</td>\n",
              "      <td>30.370000</td>\n",
              "      <td>31.080000</td>\n",
              "      <td>25.880000</td>\n",
              "      <td>28.210000</td>\n",
              "      <td>42.380000</td>\n",
              "      <td>42.540000</td>\n",
              "    </tr>\n",
              "  </tbody>\n",
              "</table>\n",
              "</div>"
            ],
            "text/plain": [
              "               RPT          VAL  ...          BEL          MAL\n",
              "count  6568.000000  6571.000000  ...  6574.000000  6570.000000\n",
              "mean     12.362987    10.644314  ...    13.121007    15.599079\n",
              "std       5.618413     5.267356  ...     5.835037     6.699794\n",
              "min       0.670000     0.210000  ...     0.130000     0.670000\n",
              "50%      11.710000    10.170000  ...    12.500000    15.000000\n",
              "max      35.800000    33.370000  ...    42.380000    42.540000\n",
              "\n",
              "[6 rows x 12 columns]"
            ]
          },
          "metadata": {
            "tags": []
          },
          "execution_count": 39
        }
      ]
    },
    {
      "cell_type": "markdown",
      "metadata": {
        "id": "K6_JshfnMlEl",
        "colab_type": "text"
      },
      "source": [
        "### Step 10. Create a DataFrame called day_stats and calculate the min, max and mean windspeed and standard deviations of the windspeeds across all the locations at each day.\n",
        "\n",
        "#### A different set of numbers for each day."
      ]
    },
    {
      "cell_type": "code",
      "metadata": {
        "id": "t845UTL2MlEm",
        "colab_type": "code",
        "colab": {}
      },
      "source": [
        "day_stats=pd.DataFrame()\n",
        "day_stats['min']=data.min(axis=1)\n",
        "day_stats['max']=data.max(axis=1)\n",
        "day_stats['mean']=data.mean(axis=1)\n",
        "day_stats['std_dev']=data.std(axis=1)"
      ],
      "execution_count": 0,
      "outputs": []
    },
    {
      "cell_type": "code",
      "metadata": {
        "id": "GIUuzdlVcVJl",
        "colab_type": "code",
        "colab": {
          "base_uri": "https://localhost:8080/",
          "height": 235
        },
        "outputId": "72bbaa06-da5f-47fd-f6fb-138ad77c8873"
      },
      "source": [
        "day_stats.head()"
      ],
      "execution_count": 44,
      "outputs": [
        {
          "output_type": "execute_result",
          "data": {
            "text/html": [
              "<div>\n",
              "<style scoped>\n",
              "    .dataframe tbody tr th:only-of-type {\n",
              "        vertical-align: middle;\n",
              "    }\n",
              "\n",
              "    .dataframe tbody tr th {\n",
              "        vertical-align: top;\n",
              "    }\n",
              "\n",
              "    .dataframe thead th {\n",
              "        text-align: right;\n",
              "    }\n",
              "</style>\n",
              "<table border=\"1\" class=\"dataframe\">\n",
              "  <thead>\n",
              "    <tr style=\"text-align: right;\">\n",
              "      <th></th>\n",
              "      <th>min</th>\n",
              "      <th>max</th>\n",
              "      <th>mean</th>\n",
              "      <th>std_dev</th>\n",
              "    </tr>\n",
              "    <tr>\n",
              "      <th>Yr_Mo_Dy</th>\n",
              "      <th></th>\n",
              "      <th></th>\n",
              "      <th></th>\n",
              "      <th></th>\n",
              "    </tr>\n",
              "  </thead>\n",
              "  <tbody>\n",
              "    <tr>\n",
              "      <th>1961-01-01</th>\n",
              "      <td>9.29</td>\n",
              "      <td>18.50</td>\n",
              "      <td>13.018182</td>\n",
              "      <td>2.808875</td>\n",
              "    </tr>\n",
              "    <tr>\n",
              "      <th>1961-01-02</th>\n",
              "      <td>6.50</td>\n",
              "      <td>17.54</td>\n",
              "      <td>11.336364</td>\n",
              "      <td>3.188994</td>\n",
              "    </tr>\n",
              "    <tr>\n",
              "      <th>1961-01-03</th>\n",
              "      <td>6.17</td>\n",
              "      <td>18.50</td>\n",
              "      <td>11.641818</td>\n",
              "      <td>3.681912</td>\n",
              "    </tr>\n",
              "    <tr>\n",
              "      <th>1961-01-04</th>\n",
              "      <td>1.79</td>\n",
              "      <td>11.75</td>\n",
              "      <td>6.619167</td>\n",
              "      <td>3.198126</td>\n",
              "    </tr>\n",
              "    <tr>\n",
              "      <th>1961-01-05</th>\n",
              "      <td>6.17</td>\n",
              "      <td>13.33</td>\n",
              "      <td>10.630000</td>\n",
              "      <td>2.445356</td>\n",
              "    </tr>\n",
              "  </tbody>\n",
              "</table>\n",
              "</div>"
            ],
            "text/plain": [
              "             min    max       mean   std_dev\n",
              "Yr_Mo_Dy                                    \n",
              "1961-01-01  9.29  18.50  13.018182  2.808875\n",
              "1961-01-02  6.50  17.54  11.336364  3.188994\n",
              "1961-01-03  6.17  18.50  11.641818  3.681912\n",
              "1961-01-04  1.79  11.75   6.619167  3.198126\n",
              "1961-01-05  6.17  13.33  10.630000  2.445356"
            ]
          },
          "metadata": {
            "tags": []
          },
          "execution_count": 44
        }
      ]
    },
    {
      "cell_type": "markdown",
      "metadata": {
        "id": "rw_mVwKTMlEp",
        "colab_type": "text"
      },
      "source": [
        "### Step 11. Find the average windspeed in January for each location.  \n",
        "#### Treat January 1961 and January 1962 both as January."
      ]
    },
    {
      "cell_type": "code",
      "metadata": {
        "id": "P6OX9b30MlEr",
        "colab_type": "code",
        "colab": {
          "base_uri": "https://localhost:8080/",
          "height": 153
        },
        "outputId": "f52c0d17-219d-49ae-af76-36a8f5a5ef86"
      },
      "source": [
        "data.index"
      ],
      "execution_count": 45,
      "outputs": [
        {
          "output_type": "execute_result",
          "data": {
            "text/plain": [
              "DatetimeIndex(['1961-01-01', '1961-01-02', '1961-01-03', '1961-01-04',\n",
              "               '1961-01-05', '1961-01-06', '1961-01-07', '1961-01-08',\n",
              "               '1961-01-09', '1961-01-10',\n",
              "               ...\n",
              "               '1978-12-22', '1978-12-23', '1978-12-24', '1978-12-25',\n",
              "               '1978-12-26', '1978-12-27', '1978-12-28', '1978-12-29',\n",
              "               '1978-12-30', '1978-12-31'],\n",
              "              dtype='datetime64[ns]', name=u'Yr_Mo_Dy', length=6574, freq=None)"
            ]
          },
          "metadata": {
            "tags": []
          },
          "execution_count": 45
        }
      ]
    },
    {
      "cell_type": "markdown",
      "metadata": {
        "id": "c_ZInn1LMlEx",
        "colab_type": "text"
      },
      "source": [
        "### Step 12. Downsample the record to a yearly frequency for each location."
      ]
    },
    {
      "cell_type": "code",
      "metadata": {
        "id": "bGDRlOGzMlEy",
        "colab_type": "code",
        "colab": {}
      },
      "source": [
        ""
      ],
      "execution_count": 0,
      "outputs": []
    },
    {
      "cell_type": "markdown",
      "metadata": {
        "id": "YYfkK_X0MlE1",
        "colab_type": "text"
      },
      "source": [
        "### Step 13. Downsample the record to a monthly frequency for each location."
      ]
    },
    {
      "cell_type": "code",
      "metadata": {
        "id": "-wPqrb8DMlE2",
        "colab_type": "code",
        "colab": {}
      },
      "source": [
        ""
      ],
      "execution_count": 0,
      "outputs": []
    },
    {
      "cell_type": "markdown",
      "metadata": {
        "id": "6qIpl1AmMlE5",
        "colab_type": "text"
      },
      "source": [
        "### Step 14. Downsample the record to a weekly frequency for each location."
      ]
    },
    {
      "cell_type": "code",
      "metadata": {
        "id": "v_r6k76_MlE7",
        "colab_type": "code",
        "colab": {}
      },
      "source": [
        ""
      ],
      "execution_count": 0,
      "outputs": []
    },
    {
      "cell_type": "markdown",
      "metadata": {
        "id": "3YbOoZ16MlFA",
        "colab_type": "text"
      },
      "source": [
        "### Step 15. Calculate the min, max and mean windspeeds and standard deviations of the windspeeds across all locations for each week (assume that the first week starts on January 2 1961) for the first 52 weeks."
      ]
    },
    {
      "cell_type": "code",
      "metadata": {
        "id": "iFiEduUWMlFB",
        "colab_type": "code",
        "colab": {}
      },
      "source": [
        ""
      ],
      "execution_count": 0,
      "outputs": []
    }
  ]
}