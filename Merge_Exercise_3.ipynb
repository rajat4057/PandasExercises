{
  "nbformat": 4,
  "nbformat_minor": 0,
  "metadata": {
    "kernelspec": {
      "display_name": "Python 2",
      "language": "python",
      "name": "python2"
    },
    "language_info": {
      "codemirror_mode": {
        "name": "ipython",
        "version": 2
      },
      "file_extension": ".py",
      "mimetype": "text/x-python",
      "name": "python",
      "nbconvert_exporter": "python",
      "pygments_lexer": "ipython2",
      "version": "2.7.11"
    },
    "colab": {
      "name": "Copy of Exercises.ipynb",
      "provenance": [],
      "collapsed_sections": [],
      "include_colab_link": true
    }
  },
  "cells": [
    {
      "cell_type": "markdown",
      "metadata": {
        "id": "view-in-github",
        "colab_type": "text"
      },
      "source": [
        "<a href=\"https://colab.research.google.com/github/rajat4057/PandasExercises/blob/master/Merge_Exercise_3.ipynb\" target=\"_parent\"><img src=\"https://colab.research.google.com/assets/colab-badge.svg\" alt=\"Open In Colab\"/></a>"
      ]
    },
    {
      "cell_type": "markdown",
      "metadata": {
        "id": "NvhykHA_Edoi",
        "colab_type": "text"
      },
      "source": [
        "# Housing Market"
      ]
    },
    {
      "cell_type": "markdown",
      "metadata": {
        "id": "T5OXdampEdos",
        "colab_type": "text"
      },
      "source": [
        "### Introduction:\n",
        "\n",
        "This time we will create our own dataset with fictional numbers to describe a house market. As we are going to create random data don't try to reason of the numbers.\n",
        "\n",
        "### Step 1. Import the necessary libraries"
      ]
    },
    {
      "cell_type": "code",
      "metadata": {
        "id": "n8_wFKt9Edou",
        "colab_type": "code",
        "colab": {}
      },
      "source": [
        "import numpy as np\n",
        "import pandas as pd"
      ],
      "execution_count": 0,
      "outputs": []
    },
    {
      "cell_type": "markdown",
      "metadata": {
        "id": "nqwPB0WPEdo4",
        "colab_type": "text"
      },
      "source": [
        "### Step 2. Create 3 differents Series, each of length 100, as follows: \n",
        "1. The first a random number from 1 to 4 \n",
        "2. The second a random number from 1 to 3\n",
        "3. The third a random number from 10,000 to 30,000"
      ]
    },
    {
      "cell_type": "code",
      "metadata": {
        "id": "cqCGYmX9Edo7",
        "colab_type": "code",
        "colab": {}
      },
      "source": [
        "series1=pd.Series(np.random.randint(1,high=5,size=100))\n",
        "series2=pd.Series(np.random.randint(1,high=4,size=100))\n",
        "series3=pd.Series(np.random.randint(10000,high=30001,size=100))"
      ],
      "execution_count": 0,
      "outputs": []
    },
    {
      "cell_type": "code",
      "metadata": {
        "id": "NUB_13j9FeSu",
        "colab_type": "code",
        "colab": {
          "base_uri": "https://localhost:8080/",
          "height": 1000
        },
        "outputId": "787fec84-1a47-4fe7-c847-656b3a4fe940"
      },
      "source": [
        "series3"
      ],
      "execution_count": 5,
      "outputs": [
        {
          "output_type": "execute_result",
          "data": {
            "text/plain": [
              "0     14594\n",
              "1     24327\n",
              "2     10499\n",
              "3     12158\n",
              "4     28473\n",
              "5     25849\n",
              "6     23334\n",
              "7     18787\n",
              "8     28237\n",
              "9     14316\n",
              "10    15595\n",
              "11    26163\n",
              "12    13875\n",
              "13    14563\n",
              "14    23069\n",
              "15    28440\n",
              "16    11540\n",
              "17    21283\n",
              "18    18377\n",
              "19    12625\n",
              "20    12575\n",
              "21    16235\n",
              "22    27288\n",
              "23    17266\n",
              "24    20113\n",
              "25    28786\n",
              "26    28481\n",
              "27    17586\n",
              "28    11776\n",
              "29    12841\n",
              "      ...  \n",
              "70    18552\n",
              "71    27260\n",
              "72    23843\n",
              "73    14286\n",
              "74    27517\n",
              "75    29133\n",
              "76    13445\n",
              "77    29371\n",
              "78    23335\n",
              "79    21642\n",
              "80    29857\n",
              "81    17853\n",
              "82    22922\n",
              "83    16110\n",
              "84    29096\n",
              "85    10578\n",
              "86    18326\n",
              "87    22251\n",
              "88    14467\n",
              "89    17762\n",
              "90    20436\n",
              "91    20553\n",
              "92    23824\n",
              "93    20089\n",
              "94    19813\n",
              "95    21939\n",
              "96    11443\n",
              "97    25338\n",
              "98    25214\n",
              "99    18675\n",
              "Length: 100, dtype: int64"
            ]
          },
          "metadata": {
            "tags": []
          },
          "execution_count": 5
        }
      ]
    },
    {
      "cell_type": "markdown",
      "metadata": {
        "id": "XMiazw5wEdpB",
        "colab_type": "text"
      },
      "source": [
        "### Step 3. Let's create a DataFrame by joinning the Series by column"
      ]
    },
    {
      "cell_type": "code",
      "metadata": {
        "id": "qHgG6fJnEdpE",
        "colab_type": "code",
        "colab": {}
      },
      "source": [
        "df=pd.DataFrame(pd.concat([series1,series2,series3],axis=1))"
      ],
      "execution_count": 0,
      "outputs": []
    },
    {
      "cell_type": "markdown",
      "metadata": {
        "id": "_w3Ig_WZEdpL",
        "colab_type": "text"
      },
      "source": [
        "### Step 4. Change the name of the columns to bedrs, bathrs, price_sqr_meter"
      ]
    },
    {
      "cell_type": "code",
      "metadata": {
        "id": "Um5b9BEREdpO",
        "colab_type": "code",
        "colab": {}
      },
      "source": [
        "df.columns=['bedrs','bathrs','price_sqr_meter']"
      ],
      "execution_count": 0,
      "outputs": []
    },
    {
      "cell_type": "markdown",
      "metadata": {
        "id": "vgAdt7wNEdpU",
        "colab_type": "text"
      },
      "source": [
        "### Step 5. Create a one column DataFrame with the values of the 3 Series and assign it to 'bigcolumn'"
      ]
    },
    {
      "cell_type": "code",
      "metadata": {
        "id": "lokImR32EdpW",
        "colab_type": "code",
        "colab": {
          "base_uri": "https://localhost:8080/",
          "height": 1000
        },
        "outputId": "36dd2e7d-81e5-40c5-c715-9f5648ccc87a"
      },
      "source": [
        "#newdf=pd.DataFrame(pd.concat([series1,series2,series3],axis=0))\n",
        "#newdf.columns=['bigcolumn']\n",
        "newdf"
      ],
      "execution_count": 18,
      "outputs": [
        {
          "output_type": "execute_result",
          "data": {
            "text/html": [
              "<div>\n",
              "<style scoped>\n",
              "    .dataframe tbody tr th:only-of-type {\n",
              "        vertical-align: middle;\n",
              "    }\n",
              "\n",
              "    .dataframe tbody tr th {\n",
              "        vertical-align: top;\n",
              "    }\n",
              "\n",
              "    .dataframe thead th {\n",
              "        text-align: right;\n",
              "    }\n",
              "</style>\n",
              "<table border=\"1\" class=\"dataframe\">\n",
              "  <thead>\n",
              "    <tr style=\"text-align: right;\">\n",
              "      <th></th>\n",
              "      <th>bigcolumn</th>\n",
              "    </tr>\n",
              "  </thead>\n",
              "  <tbody>\n",
              "    <tr>\n",
              "      <th>0</th>\n",
              "      <td>4</td>\n",
              "    </tr>\n",
              "    <tr>\n",
              "      <th>1</th>\n",
              "      <td>1</td>\n",
              "    </tr>\n",
              "    <tr>\n",
              "      <th>2</th>\n",
              "      <td>2</td>\n",
              "    </tr>\n",
              "    <tr>\n",
              "      <th>3</th>\n",
              "      <td>2</td>\n",
              "    </tr>\n",
              "    <tr>\n",
              "      <th>4</th>\n",
              "      <td>2</td>\n",
              "    </tr>\n",
              "    <tr>\n",
              "      <th>5</th>\n",
              "      <td>2</td>\n",
              "    </tr>\n",
              "    <tr>\n",
              "      <th>6</th>\n",
              "      <td>4</td>\n",
              "    </tr>\n",
              "    <tr>\n",
              "      <th>7</th>\n",
              "      <td>4</td>\n",
              "    </tr>\n",
              "    <tr>\n",
              "      <th>8</th>\n",
              "      <td>1</td>\n",
              "    </tr>\n",
              "    <tr>\n",
              "      <th>9</th>\n",
              "      <td>2</td>\n",
              "    </tr>\n",
              "    <tr>\n",
              "      <th>10</th>\n",
              "      <td>4</td>\n",
              "    </tr>\n",
              "    <tr>\n",
              "      <th>11</th>\n",
              "      <td>1</td>\n",
              "    </tr>\n",
              "    <tr>\n",
              "      <th>12</th>\n",
              "      <td>2</td>\n",
              "    </tr>\n",
              "    <tr>\n",
              "      <th>13</th>\n",
              "      <td>3</td>\n",
              "    </tr>\n",
              "    <tr>\n",
              "      <th>14</th>\n",
              "      <td>3</td>\n",
              "    </tr>\n",
              "    <tr>\n",
              "      <th>15</th>\n",
              "      <td>3</td>\n",
              "    </tr>\n",
              "    <tr>\n",
              "      <th>16</th>\n",
              "      <td>2</td>\n",
              "    </tr>\n",
              "    <tr>\n",
              "      <th>17</th>\n",
              "      <td>2</td>\n",
              "    </tr>\n",
              "    <tr>\n",
              "      <th>18</th>\n",
              "      <td>3</td>\n",
              "    </tr>\n",
              "    <tr>\n",
              "      <th>19</th>\n",
              "      <td>3</td>\n",
              "    </tr>\n",
              "    <tr>\n",
              "      <th>20</th>\n",
              "      <td>4</td>\n",
              "    </tr>\n",
              "    <tr>\n",
              "      <th>21</th>\n",
              "      <td>3</td>\n",
              "    </tr>\n",
              "    <tr>\n",
              "      <th>22</th>\n",
              "      <td>1</td>\n",
              "    </tr>\n",
              "    <tr>\n",
              "      <th>23</th>\n",
              "      <td>1</td>\n",
              "    </tr>\n",
              "    <tr>\n",
              "      <th>24</th>\n",
              "      <td>2</td>\n",
              "    </tr>\n",
              "    <tr>\n",
              "      <th>25</th>\n",
              "      <td>1</td>\n",
              "    </tr>\n",
              "    <tr>\n",
              "      <th>26</th>\n",
              "      <td>1</td>\n",
              "    </tr>\n",
              "    <tr>\n",
              "      <th>27</th>\n",
              "      <td>2</td>\n",
              "    </tr>\n",
              "    <tr>\n",
              "      <th>28</th>\n",
              "      <td>4</td>\n",
              "    </tr>\n",
              "    <tr>\n",
              "      <th>29</th>\n",
              "      <td>2</td>\n",
              "    </tr>\n",
              "    <tr>\n",
              "      <th>...</th>\n",
              "      <td>...</td>\n",
              "    </tr>\n",
              "    <tr>\n",
              "      <th>70</th>\n",
              "      <td>18552</td>\n",
              "    </tr>\n",
              "    <tr>\n",
              "      <th>71</th>\n",
              "      <td>27260</td>\n",
              "    </tr>\n",
              "    <tr>\n",
              "      <th>72</th>\n",
              "      <td>23843</td>\n",
              "    </tr>\n",
              "    <tr>\n",
              "      <th>73</th>\n",
              "      <td>14286</td>\n",
              "    </tr>\n",
              "    <tr>\n",
              "      <th>74</th>\n",
              "      <td>27517</td>\n",
              "    </tr>\n",
              "    <tr>\n",
              "      <th>75</th>\n",
              "      <td>29133</td>\n",
              "    </tr>\n",
              "    <tr>\n",
              "      <th>76</th>\n",
              "      <td>13445</td>\n",
              "    </tr>\n",
              "    <tr>\n",
              "      <th>77</th>\n",
              "      <td>29371</td>\n",
              "    </tr>\n",
              "    <tr>\n",
              "      <th>78</th>\n",
              "      <td>23335</td>\n",
              "    </tr>\n",
              "    <tr>\n",
              "      <th>79</th>\n",
              "      <td>21642</td>\n",
              "    </tr>\n",
              "    <tr>\n",
              "      <th>80</th>\n",
              "      <td>29857</td>\n",
              "    </tr>\n",
              "    <tr>\n",
              "      <th>81</th>\n",
              "      <td>17853</td>\n",
              "    </tr>\n",
              "    <tr>\n",
              "      <th>82</th>\n",
              "      <td>22922</td>\n",
              "    </tr>\n",
              "    <tr>\n",
              "      <th>83</th>\n",
              "      <td>16110</td>\n",
              "    </tr>\n",
              "    <tr>\n",
              "      <th>84</th>\n",
              "      <td>29096</td>\n",
              "    </tr>\n",
              "    <tr>\n",
              "      <th>85</th>\n",
              "      <td>10578</td>\n",
              "    </tr>\n",
              "    <tr>\n",
              "      <th>86</th>\n",
              "      <td>18326</td>\n",
              "    </tr>\n",
              "    <tr>\n",
              "      <th>87</th>\n",
              "      <td>22251</td>\n",
              "    </tr>\n",
              "    <tr>\n",
              "      <th>88</th>\n",
              "      <td>14467</td>\n",
              "    </tr>\n",
              "    <tr>\n",
              "      <th>89</th>\n",
              "      <td>17762</td>\n",
              "    </tr>\n",
              "    <tr>\n",
              "      <th>90</th>\n",
              "      <td>20436</td>\n",
              "    </tr>\n",
              "    <tr>\n",
              "      <th>91</th>\n",
              "      <td>20553</td>\n",
              "    </tr>\n",
              "    <tr>\n",
              "      <th>92</th>\n",
              "      <td>23824</td>\n",
              "    </tr>\n",
              "    <tr>\n",
              "      <th>93</th>\n",
              "      <td>20089</td>\n",
              "    </tr>\n",
              "    <tr>\n",
              "      <th>94</th>\n",
              "      <td>19813</td>\n",
              "    </tr>\n",
              "    <tr>\n",
              "      <th>95</th>\n",
              "      <td>21939</td>\n",
              "    </tr>\n",
              "    <tr>\n",
              "      <th>96</th>\n",
              "      <td>11443</td>\n",
              "    </tr>\n",
              "    <tr>\n",
              "      <th>97</th>\n",
              "      <td>25338</td>\n",
              "    </tr>\n",
              "    <tr>\n",
              "      <th>98</th>\n",
              "      <td>25214</td>\n",
              "    </tr>\n",
              "    <tr>\n",
              "      <th>99</th>\n",
              "      <td>18675</td>\n",
              "    </tr>\n",
              "  </tbody>\n",
              "</table>\n",
              "<p>300 rows × 1 columns</p>\n",
              "</div>"
            ],
            "text/plain": [
              "    bigcolumn\n",
              "0           4\n",
              "1           1\n",
              "2           2\n",
              "3           2\n",
              "4           2\n",
              "5           2\n",
              "6           4\n",
              "7           4\n",
              "8           1\n",
              "9           2\n",
              "10          4\n",
              "11          1\n",
              "12          2\n",
              "13          3\n",
              "14          3\n",
              "15          3\n",
              "16          2\n",
              "17          2\n",
              "18          3\n",
              "19          3\n",
              "20          4\n",
              "21          3\n",
              "22          1\n",
              "23          1\n",
              "24          2\n",
              "25          1\n",
              "26          1\n",
              "27          2\n",
              "28          4\n",
              "29          2\n",
              "..        ...\n",
              "70      18552\n",
              "71      27260\n",
              "72      23843\n",
              "73      14286\n",
              "74      27517\n",
              "75      29133\n",
              "76      13445\n",
              "77      29371\n",
              "78      23335\n",
              "79      21642\n",
              "80      29857\n",
              "81      17853\n",
              "82      22922\n",
              "83      16110\n",
              "84      29096\n",
              "85      10578\n",
              "86      18326\n",
              "87      22251\n",
              "88      14467\n",
              "89      17762\n",
              "90      20436\n",
              "91      20553\n",
              "92      23824\n",
              "93      20089\n",
              "94      19813\n",
              "95      21939\n",
              "96      11443\n",
              "97      25338\n",
              "98      25214\n",
              "99      18675\n",
              "\n",
              "[300 rows x 1 columns]"
            ]
          },
          "metadata": {
            "tags": []
          },
          "execution_count": 18
        }
      ]
    },
    {
      "cell_type": "markdown",
      "metadata": {
        "id": "gJMGy8r3Edpc",
        "colab_type": "text"
      },
      "source": [
        "### Step 6. Ops it seems it is going only until index 99. Is it true?"
      ]
    },
    {
      "cell_type": "code",
      "metadata": {
        "id": "QSgoBqlhEdpf",
        "colab_type": "code",
        "colab": {
          "base_uri": "https://localhost:8080/",
          "height": 85
        },
        "outputId": "c610a5ac-ad7c-46c0-82bb-97b18ac251b8"
      },
      "source": [
        "newdf.index"
      ],
      "execution_count": 20,
      "outputs": [
        {
          "output_type": "execute_result",
          "data": {
            "text/plain": [
              "Int64Index([ 0,  1,  2,  3,  4,  5,  6,  7,  8,  9,\n",
              "            ...\n",
              "            90, 91, 92, 93, 94, 95, 96, 97, 98, 99],\n",
              "           dtype='int64', length=300)"
            ]
          },
          "metadata": {
            "tags": []
          },
          "execution_count": 20
        }
      ]
    },
    {
      "cell_type": "markdown",
      "metadata": {
        "id": "PhnrjxaaEdpm",
        "colab_type": "text"
      },
      "source": [
        "### Step 7. Reindex the DataFrame so it goes from 0 to 299"
      ]
    },
    {
      "cell_type": "code",
      "metadata": {
        "id": "4T6Oc9_MEdpq",
        "colab_type": "code",
        "colab": {
          "base_uri": "https://localhost:8080/",
          "height": 34
        },
        "outputId": "9776f130-ca9b-4cd6-f340-d667ff3bed3b"
      },
      "source": [
        "newdf.reset_index(drop=True,inplace=True)\n",
        "newdf.index"
      ],
      "execution_count": 22,
      "outputs": [
        {
          "output_type": "execute_result",
          "data": {
            "text/plain": [
              "RangeIndex(start=0, stop=300, step=1)"
            ]
          },
          "metadata": {
            "tags": []
          },
          "execution_count": 22
        }
      ]
    },
    {
      "cell_type": "code",
      "metadata": {
        "id": "cl0ALGUfImr_",
        "colab_type": "code",
        "colab": {}
      },
      "source": [
        ""
      ],
      "execution_count": 0,
      "outputs": []
    }
  ]
}