{
  "nbformat": 4,
  "nbformat_minor": 0,
  "metadata": {
    "kernelspec": {
      "display_name": "Python 2",
      "language": "python",
      "name": "python2"
    },
    "language_info": {
      "codemirror_mode": {
        "name": "ipython",
        "version": 2
      },
      "file_extension": ".py",
      "mimetype": "text/x-python",
      "name": "python",
      "nbconvert_exporter": "python",
      "pygments_lexer": "ipython2",
      "version": "2.7.11"
    },
    "colab": {
      "name": "Copy of Exercise.ipynb",
      "provenance": [],
      "collapsed_sections": [],
      "include_colab_link": true
    }
  },
  "cells": [
    {
      "cell_type": "markdown",
      "metadata": {
        "id": "view-in-github",
        "colab_type": "text"
      },
      "source": [
        "<a href=\"https://colab.research.google.com/github/rajat4057/PythonBase/blob/master/Group_Exercise2_Occupation.ipynb\" target=\"_parent\"><img src=\"https://colab.research.google.com/assets/colab-badge.svg\" alt=\"Open In Colab\"/></a>"
      ]
    },
    {
      "cell_type": "markdown",
      "metadata": {
        "id": "K_pEtRwsMwrG",
        "colab_type": "text"
      },
      "source": [
        "# Occupation"
      ]
    },
    {
      "cell_type": "markdown",
      "metadata": {
        "id": "Pc7bDtYoMwrO",
        "colab_type": "text"
      },
      "source": [
        "### Introduction:\n",
        "\n",
        "Special thanks to: https://github.com/justmarkham for sharing the dataset and materials.\n",
        "\n",
        "### Step 1. Import the necessary libraries"
      ]
    },
    {
      "cell_type": "code",
      "metadata": {
        "id": "s9iEB9iQMwrP",
        "colab_type": "code",
        "colab": {}
      },
      "source": [
        "import pandas as pd"
      ],
      "execution_count": 0,
      "outputs": []
    },
    {
      "cell_type": "markdown",
      "metadata": {
        "id": "hqsVJDogMwrU",
        "colab_type": "text"
      },
      "source": [
        "### Step 2. Import the dataset from this [address](https://raw.githubusercontent.com/justmarkham/DAT8/master/data/u.user). "
      ]
    },
    {
      "cell_type": "markdown",
      "metadata": {
        "id": "GqzeKpyMMwrV",
        "colab_type": "text"
      },
      "source": [
        "### Step 3. Assign it to a variable called users."
      ]
    },
    {
      "cell_type": "code",
      "metadata": {
        "id": "RN-FSRnHMwrW",
        "colab_type": "code",
        "colab": {}
      },
      "source": [
        "users=pd.read_csv(\"https://raw.githubusercontent.com/justmarkham/DAT8/master/data/u.user\",sep=\"|\")"
      ],
      "execution_count": 0,
      "outputs": []
    },
    {
      "cell_type": "code",
      "metadata": {
        "id": "Gac0dbGONYvR",
        "colab_type": "code",
        "colab": {
          "base_uri": "https://localhost:8080/",
          "height": 204
        },
        "outputId": "a301683b-e386-41e4-a262-573ec1501072"
      },
      "source": [
        "users.head()"
      ],
      "execution_count": 3,
      "outputs": [
        {
          "output_type": "execute_result",
          "data": {
            "text/html": [
              "<div>\n",
              "<style scoped>\n",
              "    .dataframe tbody tr th:only-of-type {\n",
              "        vertical-align: middle;\n",
              "    }\n",
              "\n",
              "    .dataframe tbody tr th {\n",
              "        vertical-align: top;\n",
              "    }\n",
              "\n",
              "    .dataframe thead th {\n",
              "        text-align: right;\n",
              "    }\n",
              "</style>\n",
              "<table border=\"1\" class=\"dataframe\">\n",
              "  <thead>\n",
              "    <tr style=\"text-align: right;\">\n",
              "      <th></th>\n",
              "      <th>user_id</th>\n",
              "      <th>age</th>\n",
              "      <th>gender</th>\n",
              "      <th>occupation</th>\n",
              "      <th>zip_code</th>\n",
              "    </tr>\n",
              "  </thead>\n",
              "  <tbody>\n",
              "    <tr>\n",
              "      <th>0</th>\n",
              "      <td>1</td>\n",
              "      <td>24</td>\n",
              "      <td>M</td>\n",
              "      <td>technician</td>\n",
              "      <td>85711</td>\n",
              "    </tr>\n",
              "    <tr>\n",
              "      <th>1</th>\n",
              "      <td>2</td>\n",
              "      <td>53</td>\n",
              "      <td>F</td>\n",
              "      <td>other</td>\n",
              "      <td>94043</td>\n",
              "    </tr>\n",
              "    <tr>\n",
              "      <th>2</th>\n",
              "      <td>3</td>\n",
              "      <td>23</td>\n",
              "      <td>M</td>\n",
              "      <td>writer</td>\n",
              "      <td>32067</td>\n",
              "    </tr>\n",
              "    <tr>\n",
              "      <th>3</th>\n",
              "      <td>4</td>\n",
              "      <td>24</td>\n",
              "      <td>M</td>\n",
              "      <td>technician</td>\n",
              "      <td>43537</td>\n",
              "    </tr>\n",
              "    <tr>\n",
              "      <th>4</th>\n",
              "      <td>5</td>\n",
              "      <td>33</td>\n",
              "      <td>F</td>\n",
              "      <td>other</td>\n",
              "      <td>15213</td>\n",
              "    </tr>\n",
              "  </tbody>\n",
              "</table>\n",
              "</div>"
            ],
            "text/plain": [
              "   user_id  age gender  occupation zip_code\n",
              "0        1   24      M  technician    85711\n",
              "1        2   53      F       other    94043\n",
              "2        3   23      M      writer    32067\n",
              "3        4   24      M  technician    43537\n",
              "4        5   33      F       other    15213"
            ]
          },
          "metadata": {
            "tags": []
          },
          "execution_count": 3
        }
      ]
    },
    {
      "cell_type": "markdown",
      "metadata": {
        "id": "dI0IpcFiMwra",
        "colab_type": "text"
      },
      "source": [
        "### Step 4. Discover what is the mean age per occupation"
      ]
    },
    {
      "cell_type": "code",
      "metadata": {
        "id": "zlceqdM_N7TX",
        "colab_type": "code",
        "colab": {
          "base_uri": "https://localhost:8080/",
          "height": 187
        },
        "outputId": "cdc1afe6-1bce-4646-d092-d4cf59f36e2b"
      },
      "source": [
        "users.info()"
      ],
      "execution_count": 5,
      "outputs": [
        {
          "output_type": "stream",
          "text": [
            "<class 'pandas.core.frame.DataFrame'>\n",
            "RangeIndex: 943 entries, 0 to 942\n",
            "Data columns (total 5 columns):\n",
            "user_id       943 non-null int64\n",
            "age           943 non-null int64\n",
            "gender        943 non-null object\n",
            "occupation    943 non-null object\n",
            "zip_code      943 non-null object\n",
            "dtypes: int64(2), object(3)\n",
            "memory usage: 36.9+ KB\n"
          ],
          "name": "stdout"
        }
      ]
    },
    {
      "cell_type": "code",
      "metadata": {
        "id": "AFpxMcvhMwrb",
        "colab_type": "code",
        "colab": {
          "base_uri": "https://localhost:8080/",
          "height": 408
        },
        "outputId": "2257d872-5600-4615-f768-86448997621d"
      },
      "source": [
        "users.groupby('occupation')['age'].agg('mean')"
      ],
      "execution_count": 4,
      "outputs": [
        {
          "output_type": "execute_result",
          "data": {
            "text/plain": [
              "occupation\n",
              "administrator    38.746835\n",
              "artist           31.392857\n",
              "doctor           43.571429\n",
              "educator         42.010526\n",
              "engineer         36.388060\n",
              "entertainment    29.222222\n",
              "executive        38.718750\n",
              "healthcare       41.562500\n",
              "homemaker        32.571429\n",
              "lawyer           36.750000\n",
              "librarian        40.000000\n",
              "marketing        37.615385\n",
              "none             26.555556\n",
              "other            34.523810\n",
              "programmer       33.121212\n",
              "retired          63.071429\n",
              "salesman         35.666667\n",
              "scientist        35.548387\n",
              "student          22.081633\n",
              "technician       33.148148\n",
              "writer           36.311111\n",
              "Name: age, dtype: float64"
            ]
          },
          "metadata": {
            "tags": []
          },
          "execution_count": 4
        }
      ]
    },
    {
      "cell_type": "markdown",
      "metadata": {
        "id": "6kDc9qGzMwre",
        "colab_type": "text"
      },
      "source": [
        "### Step 5. Discover the Male ratio per occupation and sort it from the most to the least"
      ]
    },
    {
      "cell_type": "code",
      "metadata": {
        "id": "VpcG2iFjMwrf",
        "colab_type": "code",
        "colab": {}
      },
      "source": [
        "def gen_num(x):\n",
        "  if x=='M':\n",
        "    return 1\n",
        "  else:\n",
        "    return 0\n",
        "\n",
        "users['gen_new']=users['gender'].apply(gen_num)"
      ],
      "execution_count": 0,
      "outputs": []
    },
    {
      "cell_type": "code",
      "metadata": {
        "id": "1AYKYySNqTdI",
        "colab_type": "code",
        "colab": {
          "base_uri": "https://localhost:8080/",
          "height": 408
        },
        "outputId": "ab055395-0633-4b2c-eb10-5ed5727d3221"
      },
      "source": [
        "((users.groupby('occupation')['gen_new'].sum()/users.groupby('occupation')['gen_new'].count())*100).sort_values(ascending=False)"
      ],
      "execution_count": 15,
      "outputs": [
        {
          "output_type": "execute_result",
          "data": {
            "text/plain": [
              "occupation\n",
              "doctor           100.000000\n",
              "engineer          97.014925\n",
              "technician        96.296296\n",
              "retired           92.857143\n",
              "programmer        90.909091\n",
              "executive         90.625000\n",
              "scientist         90.322581\n",
              "entertainment     88.888889\n",
              "lawyer            83.333333\n",
              "salesman          75.000000\n",
              "educator          72.631579\n",
              "student           69.387755\n",
              "other             65.714286\n",
              "marketing         61.538462\n",
              "writer            57.777778\n",
              "none              55.555556\n",
              "administrator     54.430380\n",
              "artist            53.571429\n",
              "librarian         43.137255\n",
              "healthcare        31.250000\n",
              "homemaker         14.285714\n",
              "Name: gen_new, dtype: float64"
            ]
          },
          "metadata": {
            "tags": []
          },
          "execution_count": 15
        }
      ]
    },
    {
      "cell_type": "markdown",
      "metadata": {
        "id": "-PJYAE4bMwri",
        "colab_type": "text"
      },
      "source": [
        "### Step 6. For each occupation, calculate the minimum and maximum ages"
      ]
    },
    {
      "cell_type": "code",
      "metadata": {
        "id": "eN8Sv_jUMwrj",
        "colab_type": "code",
        "colab": {
          "base_uri": "https://localhost:8080/",
          "height": 731
        },
        "outputId": "50c398ec-74c5-4f0a-b05e-7f8bd4fefb3f"
      },
      "source": [
        "users.groupby('occupation')['age'].agg(['min','max'])"
      ],
      "execution_count": 17,
      "outputs": [
        {
          "output_type": "execute_result",
          "data": {
            "text/html": [
              "<div>\n",
              "<style scoped>\n",
              "    .dataframe tbody tr th:only-of-type {\n",
              "        vertical-align: middle;\n",
              "    }\n",
              "\n",
              "    .dataframe tbody tr th {\n",
              "        vertical-align: top;\n",
              "    }\n",
              "\n",
              "    .dataframe thead th {\n",
              "        text-align: right;\n",
              "    }\n",
              "</style>\n",
              "<table border=\"1\" class=\"dataframe\">\n",
              "  <thead>\n",
              "    <tr style=\"text-align: right;\">\n",
              "      <th></th>\n",
              "      <th>min</th>\n",
              "      <th>max</th>\n",
              "    </tr>\n",
              "    <tr>\n",
              "      <th>occupation</th>\n",
              "      <th></th>\n",
              "      <th></th>\n",
              "    </tr>\n",
              "  </thead>\n",
              "  <tbody>\n",
              "    <tr>\n",
              "      <th>administrator</th>\n",
              "      <td>21</td>\n",
              "      <td>70</td>\n",
              "    </tr>\n",
              "    <tr>\n",
              "      <th>artist</th>\n",
              "      <td>19</td>\n",
              "      <td>48</td>\n",
              "    </tr>\n",
              "    <tr>\n",
              "      <th>doctor</th>\n",
              "      <td>28</td>\n",
              "      <td>64</td>\n",
              "    </tr>\n",
              "    <tr>\n",
              "      <th>educator</th>\n",
              "      <td>23</td>\n",
              "      <td>63</td>\n",
              "    </tr>\n",
              "    <tr>\n",
              "      <th>engineer</th>\n",
              "      <td>22</td>\n",
              "      <td>70</td>\n",
              "    </tr>\n",
              "    <tr>\n",
              "      <th>entertainment</th>\n",
              "      <td>15</td>\n",
              "      <td>50</td>\n",
              "    </tr>\n",
              "    <tr>\n",
              "      <th>executive</th>\n",
              "      <td>22</td>\n",
              "      <td>69</td>\n",
              "    </tr>\n",
              "    <tr>\n",
              "      <th>healthcare</th>\n",
              "      <td>22</td>\n",
              "      <td>62</td>\n",
              "    </tr>\n",
              "    <tr>\n",
              "      <th>homemaker</th>\n",
              "      <td>20</td>\n",
              "      <td>50</td>\n",
              "    </tr>\n",
              "    <tr>\n",
              "      <th>lawyer</th>\n",
              "      <td>21</td>\n",
              "      <td>53</td>\n",
              "    </tr>\n",
              "    <tr>\n",
              "      <th>librarian</th>\n",
              "      <td>23</td>\n",
              "      <td>69</td>\n",
              "    </tr>\n",
              "    <tr>\n",
              "      <th>marketing</th>\n",
              "      <td>24</td>\n",
              "      <td>55</td>\n",
              "    </tr>\n",
              "    <tr>\n",
              "      <th>none</th>\n",
              "      <td>11</td>\n",
              "      <td>55</td>\n",
              "    </tr>\n",
              "    <tr>\n",
              "      <th>other</th>\n",
              "      <td>13</td>\n",
              "      <td>64</td>\n",
              "    </tr>\n",
              "    <tr>\n",
              "      <th>programmer</th>\n",
              "      <td>20</td>\n",
              "      <td>63</td>\n",
              "    </tr>\n",
              "    <tr>\n",
              "      <th>retired</th>\n",
              "      <td>51</td>\n",
              "      <td>73</td>\n",
              "    </tr>\n",
              "    <tr>\n",
              "      <th>salesman</th>\n",
              "      <td>18</td>\n",
              "      <td>66</td>\n",
              "    </tr>\n",
              "    <tr>\n",
              "      <th>scientist</th>\n",
              "      <td>23</td>\n",
              "      <td>55</td>\n",
              "    </tr>\n",
              "    <tr>\n",
              "      <th>student</th>\n",
              "      <td>7</td>\n",
              "      <td>42</td>\n",
              "    </tr>\n",
              "    <tr>\n",
              "      <th>technician</th>\n",
              "      <td>21</td>\n",
              "      <td>55</td>\n",
              "    </tr>\n",
              "    <tr>\n",
              "      <th>writer</th>\n",
              "      <td>18</td>\n",
              "      <td>60</td>\n",
              "    </tr>\n",
              "  </tbody>\n",
              "</table>\n",
              "</div>"
            ],
            "text/plain": [
              "               min  max\n",
              "occupation             \n",
              "administrator   21   70\n",
              "artist          19   48\n",
              "doctor          28   64\n",
              "educator        23   63\n",
              "engineer        22   70\n",
              "entertainment   15   50\n",
              "executive       22   69\n",
              "healthcare      22   62\n",
              "homemaker       20   50\n",
              "lawyer          21   53\n",
              "librarian       23   69\n",
              "marketing       24   55\n",
              "none            11   55\n",
              "other           13   64\n",
              "programmer      20   63\n",
              "retired         51   73\n",
              "salesman        18   66\n",
              "scientist       23   55\n",
              "student          7   42\n",
              "technician      21   55\n",
              "writer          18   60"
            ]
          },
          "metadata": {
            "tags": []
          },
          "execution_count": 17
        }
      ]
    },
    {
      "cell_type": "markdown",
      "metadata": {
        "id": "Xx3qquZIMwrm",
        "colab_type": "text"
      },
      "source": [
        "### Step 7. For each combination of occupation and gender, calculate the mean age"
      ]
    },
    {
      "cell_type": "code",
      "metadata": {
        "id": "UET5WvPaMwrn",
        "colab_type": "code",
        "colab": {
          "base_uri": "https://localhost:8080/",
          "height": 748
        },
        "outputId": "be7faa37-c02c-4746-8696-8abb39026863"
      },
      "source": [
        "users.groupby(['occupation','gender'])['age'].agg('mean')"
      ],
      "execution_count": 18,
      "outputs": [
        {
          "output_type": "execute_result",
          "data": {
            "text/plain": [
              "occupation     gender\n",
              "administrator  F         40.638889\n",
              "               M         37.162791\n",
              "artist         F         30.307692\n",
              "               M         32.333333\n",
              "doctor         M         43.571429\n",
              "educator       F         39.115385\n",
              "               M         43.101449\n",
              "engineer       F         29.500000\n",
              "               M         36.600000\n",
              "entertainment  F         31.000000\n",
              "               M         29.000000\n",
              "executive      F         44.000000\n",
              "               M         38.172414\n",
              "healthcare     F         39.818182\n",
              "               M         45.400000\n",
              "homemaker      F         34.166667\n",
              "               M         23.000000\n",
              "lawyer         F         39.500000\n",
              "               M         36.200000\n",
              "librarian      F         40.000000\n",
              "               M         40.000000\n",
              "marketing      F         37.200000\n",
              "               M         37.875000\n",
              "none           F         36.500000\n",
              "               M         18.600000\n",
              "other          F         35.472222\n",
              "               M         34.028986\n",
              "programmer     F         32.166667\n",
              "               M         33.216667\n",
              "retired        F         70.000000\n",
              "               M         62.538462\n",
              "salesman       F         27.000000\n",
              "               M         38.555556\n",
              "scientist      F         28.333333\n",
              "               M         36.321429\n",
              "student        F         20.750000\n",
              "               M         22.669118\n",
              "technician     F         38.000000\n",
              "               M         32.961538\n",
              "writer         F         37.631579\n",
              "               M         35.346154\n",
              "Name: age, dtype: float64"
            ]
          },
          "metadata": {
            "tags": []
          },
          "execution_count": 18
        }
      ]
    },
    {
      "cell_type": "markdown",
      "metadata": {
        "id": "5rQ82B8gMwrq",
        "colab_type": "text"
      },
      "source": [
        "### Step 8.  For each occupation present the percentage of women and men"
      ]
    },
    {
      "cell_type": "code",
      "metadata": {
        "id": "ZC1wZ--TMwrr",
        "colab_type": "code",
        "colab": {}
      },
      "source": [
        "gender_occu=users.groupby(['occupation','gender']).agg({'gender':'count'})"
      ],
      "execution_count": 0,
      "outputs": []
    },
    {
      "cell_type": "code",
      "metadata": {
        "id": "kGIeQUVaygb9",
        "colab_type": "code",
        "colab": {
          "base_uri": "https://localhost:8080/",
          "height": 1000
        },
        "outputId": "5b4d8ae4-d455-4ec6-af01-9a7d2395b43b"
      },
      "source": [
        "gender_occu"
      ],
      "execution_count": 31,
      "outputs": [
        {
          "output_type": "execute_result",
          "data": {
            "text/html": [
              "<div>\n",
              "<style scoped>\n",
              "    .dataframe tbody tr th:only-of-type {\n",
              "        vertical-align: middle;\n",
              "    }\n",
              "\n",
              "    .dataframe tbody tr th {\n",
              "        vertical-align: top;\n",
              "    }\n",
              "\n",
              "    .dataframe thead th {\n",
              "        text-align: right;\n",
              "    }\n",
              "</style>\n",
              "<table border=\"1\" class=\"dataframe\">\n",
              "  <thead>\n",
              "    <tr style=\"text-align: right;\">\n",
              "      <th></th>\n",
              "      <th></th>\n",
              "      <th>gender</th>\n",
              "    </tr>\n",
              "    <tr>\n",
              "      <th>occupation</th>\n",
              "      <th>gender</th>\n",
              "      <th></th>\n",
              "    </tr>\n",
              "  </thead>\n",
              "  <tbody>\n",
              "    <tr>\n",
              "      <th rowspan=\"2\" valign=\"top\">administrator</th>\n",
              "      <th>F</th>\n",
              "      <td>36</td>\n",
              "    </tr>\n",
              "    <tr>\n",
              "      <th>M</th>\n",
              "      <td>43</td>\n",
              "    </tr>\n",
              "    <tr>\n",
              "      <th rowspan=\"2\" valign=\"top\">artist</th>\n",
              "      <th>F</th>\n",
              "      <td>13</td>\n",
              "    </tr>\n",
              "    <tr>\n",
              "      <th>M</th>\n",
              "      <td>15</td>\n",
              "    </tr>\n",
              "    <tr>\n",
              "      <th>doctor</th>\n",
              "      <th>M</th>\n",
              "      <td>7</td>\n",
              "    </tr>\n",
              "    <tr>\n",
              "      <th rowspan=\"2\" valign=\"top\">educator</th>\n",
              "      <th>F</th>\n",
              "      <td>26</td>\n",
              "    </tr>\n",
              "    <tr>\n",
              "      <th>M</th>\n",
              "      <td>69</td>\n",
              "    </tr>\n",
              "    <tr>\n",
              "      <th rowspan=\"2\" valign=\"top\">engineer</th>\n",
              "      <th>F</th>\n",
              "      <td>2</td>\n",
              "    </tr>\n",
              "    <tr>\n",
              "      <th>M</th>\n",
              "      <td>65</td>\n",
              "    </tr>\n",
              "    <tr>\n",
              "      <th rowspan=\"2\" valign=\"top\">entertainment</th>\n",
              "      <th>F</th>\n",
              "      <td>2</td>\n",
              "    </tr>\n",
              "    <tr>\n",
              "      <th>M</th>\n",
              "      <td>16</td>\n",
              "    </tr>\n",
              "    <tr>\n",
              "      <th rowspan=\"2\" valign=\"top\">executive</th>\n",
              "      <th>F</th>\n",
              "      <td>3</td>\n",
              "    </tr>\n",
              "    <tr>\n",
              "      <th>M</th>\n",
              "      <td>29</td>\n",
              "    </tr>\n",
              "    <tr>\n",
              "      <th rowspan=\"2\" valign=\"top\">healthcare</th>\n",
              "      <th>F</th>\n",
              "      <td>11</td>\n",
              "    </tr>\n",
              "    <tr>\n",
              "      <th>M</th>\n",
              "      <td>5</td>\n",
              "    </tr>\n",
              "    <tr>\n",
              "      <th rowspan=\"2\" valign=\"top\">homemaker</th>\n",
              "      <th>F</th>\n",
              "      <td>6</td>\n",
              "    </tr>\n",
              "    <tr>\n",
              "      <th>M</th>\n",
              "      <td>1</td>\n",
              "    </tr>\n",
              "    <tr>\n",
              "      <th rowspan=\"2\" valign=\"top\">lawyer</th>\n",
              "      <th>F</th>\n",
              "      <td>2</td>\n",
              "    </tr>\n",
              "    <tr>\n",
              "      <th>M</th>\n",
              "      <td>10</td>\n",
              "    </tr>\n",
              "    <tr>\n",
              "      <th rowspan=\"2\" valign=\"top\">librarian</th>\n",
              "      <th>F</th>\n",
              "      <td>29</td>\n",
              "    </tr>\n",
              "    <tr>\n",
              "      <th>M</th>\n",
              "      <td>22</td>\n",
              "    </tr>\n",
              "    <tr>\n",
              "      <th rowspan=\"2\" valign=\"top\">marketing</th>\n",
              "      <th>F</th>\n",
              "      <td>10</td>\n",
              "    </tr>\n",
              "    <tr>\n",
              "      <th>M</th>\n",
              "      <td>16</td>\n",
              "    </tr>\n",
              "    <tr>\n",
              "      <th rowspan=\"2\" valign=\"top\">none</th>\n",
              "      <th>F</th>\n",
              "      <td>4</td>\n",
              "    </tr>\n",
              "    <tr>\n",
              "      <th>M</th>\n",
              "      <td>5</td>\n",
              "    </tr>\n",
              "    <tr>\n",
              "      <th rowspan=\"2\" valign=\"top\">other</th>\n",
              "      <th>F</th>\n",
              "      <td>36</td>\n",
              "    </tr>\n",
              "    <tr>\n",
              "      <th>M</th>\n",
              "      <td>69</td>\n",
              "    </tr>\n",
              "    <tr>\n",
              "      <th rowspan=\"2\" valign=\"top\">programmer</th>\n",
              "      <th>F</th>\n",
              "      <td>6</td>\n",
              "    </tr>\n",
              "    <tr>\n",
              "      <th>M</th>\n",
              "      <td>60</td>\n",
              "    </tr>\n",
              "    <tr>\n",
              "      <th rowspan=\"2\" valign=\"top\">retired</th>\n",
              "      <th>F</th>\n",
              "      <td>1</td>\n",
              "    </tr>\n",
              "    <tr>\n",
              "      <th>M</th>\n",
              "      <td>13</td>\n",
              "    </tr>\n",
              "    <tr>\n",
              "      <th rowspan=\"2\" valign=\"top\">salesman</th>\n",
              "      <th>F</th>\n",
              "      <td>3</td>\n",
              "    </tr>\n",
              "    <tr>\n",
              "      <th>M</th>\n",
              "      <td>9</td>\n",
              "    </tr>\n",
              "    <tr>\n",
              "      <th rowspan=\"2\" valign=\"top\">scientist</th>\n",
              "      <th>F</th>\n",
              "      <td>3</td>\n",
              "    </tr>\n",
              "    <tr>\n",
              "      <th>M</th>\n",
              "      <td>28</td>\n",
              "    </tr>\n",
              "    <tr>\n",
              "      <th rowspan=\"2\" valign=\"top\">student</th>\n",
              "      <th>F</th>\n",
              "      <td>60</td>\n",
              "    </tr>\n",
              "    <tr>\n",
              "      <th>M</th>\n",
              "      <td>136</td>\n",
              "    </tr>\n",
              "    <tr>\n",
              "      <th rowspan=\"2\" valign=\"top\">technician</th>\n",
              "      <th>F</th>\n",
              "      <td>1</td>\n",
              "    </tr>\n",
              "    <tr>\n",
              "      <th>M</th>\n",
              "      <td>26</td>\n",
              "    </tr>\n",
              "    <tr>\n",
              "      <th rowspan=\"2\" valign=\"top\">writer</th>\n",
              "      <th>F</th>\n",
              "      <td>19</td>\n",
              "    </tr>\n",
              "    <tr>\n",
              "      <th>M</th>\n",
              "      <td>26</td>\n",
              "    </tr>\n",
              "  </tbody>\n",
              "</table>\n",
              "</div>"
            ],
            "text/plain": [
              "                      gender\n",
              "occupation    gender        \n",
              "administrator F           36\n",
              "              M           43\n",
              "artist        F           13\n",
              "              M           15\n",
              "doctor        M            7\n",
              "educator      F           26\n",
              "              M           69\n",
              "engineer      F            2\n",
              "              M           65\n",
              "entertainment F            2\n",
              "              M           16\n",
              "executive     F            3\n",
              "              M           29\n",
              "healthcare    F           11\n",
              "              M            5\n",
              "homemaker     F            6\n",
              "              M            1\n",
              "lawyer        F            2\n",
              "              M           10\n",
              "librarian     F           29\n",
              "              M           22\n",
              "marketing     F           10\n",
              "              M           16\n",
              "none          F            4\n",
              "              M            5\n",
              "other         F           36\n",
              "              M           69\n",
              "programmer    F            6\n",
              "              M           60\n",
              "retired       F            1\n",
              "              M           13\n",
              "salesman      F            3\n",
              "              M            9\n",
              "scientist     F            3\n",
              "              M           28\n",
              "student       F           60\n",
              "              M          136\n",
              "technician    F            1\n",
              "              M           26\n",
              "writer        F           19\n",
              "              M           26"
            ]
          },
          "metadata": {
            "tags": []
          },
          "execution_count": 31
        }
      ]
    },
    {
      "cell_type": "code",
      "metadata": {
        "id": "tXdNaqxasnDP",
        "colab_type": "code",
        "colab": {}
      },
      "source": [
        "occ_count=users.groupby('occupation').agg('count')"
      ],
      "execution_count": 0,
      "outputs": []
    },
    {
      "cell_type": "code",
      "metadata": {
        "id": "2Nf_E-yzypYC",
        "colab_type": "code",
        "colab": {
          "base_uri": "https://localhost:8080/",
          "height": 731
        },
        "outputId": "5fe2cdb0-737c-480c-953e-d4d83ba40d5c"
      },
      "source": [
        "occ_count"
      ],
      "execution_count": 32,
      "outputs": [
        {
          "output_type": "execute_result",
          "data": {
            "text/html": [
              "<div>\n",
              "<style scoped>\n",
              "    .dataframe tbody tr th:only-of-type {\n",
              "        vertical-align: middle;\n",
              "    }\n",
              "\n",
              "    .dataframe tbody tr th {\n",
              "        vertical-align: top;\n",
              "    }\n",
              "\n",
              "    .dataframe thead th {\n",
              "        text-align: right;\n",
              "    }\n",
              "</style>\n",
              "<table border=\"1\" class=\"dataframe\">\n",
              "  <thead>\n",
              "    <tr style=\"text-align: right;\">\n",
              "      <th></th>\n",
              "      <th>user_id</th>\n",
              "      <th>age</th>\n",
              "      <th>gender</th>\n",
              "      <th>zip_code</th>\n",
              "      <th>gen_new</th>\n",
              "    </tr>\n",
              "    <tr>\n",
              "      <th>occupation</th>\n",
              "      <th></th>\n",
              "      <th></th>\n",
              "      <th></th>\n",
              "      <th></th>\n",
              "      <th></th>\n",
              "    </tr>\n",
              "  </thead>\n",
              "  <tbody>\n",
              "    <tr>\n",
              "      <th>administrator</th>\n",
              "      <td>79</td>\n",
              "      <td>79</td>\n",
              "      <td>79</td>\n",
              "      <td>79</td>\n",
              "      <td>79</td>\n",
              "    </tr>\n",
              "    <tr>\n",
              "      <th>artist</th>\n",
              "      <td>28</td>\n",
              "      <td>28</td>\n",
              "      <td>28</td>\n",
              "      <td>28</td>\n",
              "      <td>28</td>\n",
              "    </tr>\n",
              "    <tr>\n",
              "      <th>doctor</th>\n",
              "      <td>7</td>\n",
              "      <td>7</td>\n",
              "      <td>7</td>\n",
              "      <td>7</td>\n",
              "      <td>7</td>\n",
              "    </tr>\n",
              "    <tr>\n",
              "      <th>educator</th>\n",
              "      <td>95</td>\n",
              "      <td>95</td>\n",
              "      <td>95</td>\n",
              "      <td>95</td>\n",
              "      <td>95</td>\n",
              "    </tr>\n",
              "    <tr>\n",
              "      <th>engineer</th>\n",
              "      <td>67</td>\n",
              "      <td>67</td>\n",
              "      <td>67</td>\n",
              "      <td>67</td>\n",
              "      <td>67</td>\n",
              "    </tr>\n",
              "    <tr>\n",
              "      <th>entertainment</th>\n",
              "      <td>18</td>\n",
              "      <td>18</td>\n",
              "      <td>18</td>\n",
              "      <td>18</td>\n",
              "      <td>18</td>\n",
              "    </tr>\n",
              "    <tr>\n",
              "      <th>executive</th>\n",
              "      <td>32</td>\n",
              "      <td>32</td>\n",
              "      <td>32</td>\n",
              "      <td>32</td>\n",
              "      <td>32</td>\n",
              "    </tr>\n",
              "    <tr>\n",
              "      <th>healthcare</th>\n",
              "      <td>16</td>\n",
              "      <td>16</td>\n",
              "      <td>16</td>\n",
              "      <td>16</td>\n",
              "      <td>16</td>\n",
              "    </tr>\n",
              "    <tr>\n",
              "      <th>homemaker</th>\n",
              "      <td>7</td>\n",
              "      <td>7</td>\n",
              "      <td>7</td>\n",
              "      <td>7</td>\n",
              "      <td>7</td>\n",
              "    </tr>\n",
              "    <tr>\n",
              "      <th>lawyer</th>\n",
              "      <td>12</td>\n",
              "      <td>12</td>\n",
              "      <td>12</td>\n",
              "      <td>12</td>\n",
              "      <td>12</td>\n",
              "    </tr>\n",
              "    <tr>\n",
              "      <th>librarian</th>\n",
              "      <td>51</td>\n",
              "      <td>51</td>\n",
              "      <td>51</td>\n",
              "      <td>51</td>\n",
              "      <td>51</td>\n",
              "    </tr>\n",
              "    <tr>\n",
              "      <th>marketing</th>\n",
              "      <td>26</td>\n",
              "      <td>26</td>\n",
              "      <td>26</td>\n",
              "      <td>26</td>\n",
              "      <td>26</td>\n",
              "    </tr>\n",
              "    <tr>\n",
              "      <th>none</th>\n",
              "      <td>9</td>\n",
              "      <td>9</td>\n",
              "      <td>9</td>\n",
              "      <td>9</td>\n",
              "      <td>9</td>\n",
              "    </tr>\n",
              "    <tr>\n",
              "      <th>other</th>\n",
              "      <td>105</td>\n",
              "      <td>105</td>\n",
              "      <td>105</td>\n",
              "      <td>105</td>\n",
              "      <td>105</td>\n",
              "    </tr>\n",
              "    <tr>\n",
              "      <th>programmer</th>\n",
              "      <td>66</td>\n",
              "      <td>66</td>\n",
              "      <td>66</td>\n",
              "      <td>66</td>\n",
              "      <td>66</td>\n",
              "    </tr>\n",
              "    <tr>\n",
              "      <th>retired</th>\n",
              "      <td>14</td>\n",
              "      <td>14</td>\n",
              "      <td>14</td>\n",
              "      <td>14</td>\n",
              "      <td>14</td>\n",
              "    </tr>\n",
              "    <tr>\n",
              "      <th>salesman</th>\n",
              "      <td>12</td>\n",
              "      <td>12</td>\n",
              "      <td>12</td>\n",
              "      <td>12</td>\n",
              "      <td>12</td>\n",
              "    </tr>\n",
              "    <tr>\n",
              "      <th>scientist</th>\n",
              "      <td>31</td>\n",
              "      <td>31</td>\n",
              "      <td>31</td>\n",
              "      <td>31</td>\n",
              "      <td>31</td>\n",
              "    </tr>\n",
              "    <tr>\n",
              "      <th>student</th>\n",
              "      <td>196</td>\n",
              "      <td>196</td>\n",
              "      <td>196</td>\n",
              "      <td>196</td>\n",
              "      <td>196</td>\n",
              "    </tr>\n",
              "    <tr>\n",
              "      <th>technician</th>\n",
              "      <td>27</td>\n",
              "      <td>27</td>\n",
              "      <td>27</td>\n",
              "      <td>27</td>\n",
              "      <td>27</td>\n",
              "    </tr>\n",
              "    <tr>\n",
              "      <th>writer</th>\n",
              "      <td>45</td>\n",
              "      <td>45</td>\n",
              "      <td>45</td>\n",
              "      <td>45</td>\n",
              "      <td>45</td>\n",
              "    </tr>\n",
              "  </tbody>\n",
              "</table>\n",
              "</div>"
            ],
            "text/plain": [
              "               user_id  age  gender  zip_code  gen_new\n",
              "occupation                                            \n",
              "administrator       79   79      79        79       79\n",
              "artist              28   28      28        28       28\n",
              "doctor               7    7       7         7        7\n",
              "educator            95   95      95        95       95\n",
              "engineer            67   67      67        67       67\n",
              "entertainment       18   18      18        18       18\n",
              "executive           32   32      32        32       32\n",
              "healthcare          16   16      16        16       16\n",
              "homemaker            7    7       7         7        7\n",
              "lawyer              12   12      12        12       12\n",
              "librarian           51   51      51        51       51\n",
              "marketing           26   26      26        26       26\n",
              "none                 9    9       9         9        9\n",
              "other              105  105     105       105      105\n",
              "programmer          66   66      66        66       66\n",
              "retired             14   14      14        14       14\n",
              "salesman            12   12      12        12       12\n",
              "scientist           31   31      31        31       31\n",
              "student            196  196     196       196      196\n",
              "technician          27   27      27        27       27\n",
              "writer              45   45      45        45       45"
            ]
          },
          "metadata": {
            "tags": []
          },
          "execution_count": 32
        }
      ]
    },
    {
      "cell_type": "code",
      "metadata": {
        "id": "iTppZz0utglR",
        "colab_type": "code",
        "colab": {}
      },
      "source": [
        "occup_gender = gender_occu.div(occ_count, level = \"occupation\") * 100"
      ],
      "execution_count": 0,
      "outputs": []
    },
    {
      "cell_type": "code",
      "metadata": {
        "id": "rNWgshDvupJy",
        "colab_type": "code",
        "colab": {
          "base_uri": "https://localhost:8080/",
          "height": 748
        },
        "outputId": "1e8e1c15-4ec1-4e83-e3e8-a8ef28275881"
      },
      "source": [
        "occup_gender.iloc[:,2]"
      ],
      "execution_count": 30,
      "outputs": [
        {
          "output_type": "execute_result",
          "data": {
            "text/plain": [
              "occupation     gender\n",
              "administrator  F          45.569620\n",
              "               M          54.430380\n",
              "artist         F          46.428571\n",
              "               M          53.571429\n",
              "doctor         M         100.000000\n",
              "educator       F          27.368421\n",
              "               M          72.631579\n",
              "engineer       F           2.985075\n",
              "               M          97.014925\n",
              "entertainment  F          11.111111\n",
              "               M          88.888889\n",
              "executive      F           9.375000\n",
              "               M          90.625000\n",
              "healthcare     F          68.750000\n",
              "               M          31.250000\n",
              "homemaker      F          85.714286\n",
              "               M          14.285714\n",
              "lawyer         F          16.666667\n",
              "               M          83.333333\n",
              "librarian      F          56.862745\n",
              "               M          43.137255\n",
              "marketing      F          38.461538\n",
              "               M          61.538462\n",
              "none           F          44.444444\n",
              "               M          55.555556\n",
              "other          F          34.285714\n",
              "               M          65.714286\n",
              "programmer     F           9.090909\n",
              "               M          90.909091\n",
              "retired        F           7.142857\n",
              "               M          92.857143\n",
              "salesman       F          25.000000\n",
              "               M          75.000000\n",
              "scientist      F           9.677419\n",
              "               M          90.322581\n",
              "student        F          30.612245\n",
              "               M          69.387755\n",
              "technician     F           3.703704\n",
              "               M          96.296296\n",
              "writer         F          42.222222\n",
              "               M          57.777778\n",
              "Name: gender, dtype: float64"
            ]
          },
          "metadata": {
            "tags": []
          },
          "execution_count": 30
        }
      ]
    },
    {
      "cell_type": "code",
      "metadata": {
        "id": "tdH9gtkPu9iV",
        "colab_type": "code",
        "colab": {}
      },
      "source": [
        ""
      ],
      "execution_count": 0,
      "outputs": []
    }
  ]
}